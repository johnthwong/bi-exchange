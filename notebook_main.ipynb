{
 "cells": [
  {
   "cell_type": "markdown",
   "metadata": {},
   "source": [
    "John T.H. Wong\n",
    "Hardware: Macbook Air, M1, 2020\n",
    "OS: MacOS 15.3.2\n",
    "SDE: VS Code, 1.98.2 (Universal)"
   ]
  },
  {
   "cell_type": "markdown",
   "metadata": {},
   "source": [
    "# Dependencies\n",
    "For the plotly graphs to display, please pip install ipywidgets, nbformat."
   ]
  },
  {
   "cell_type": "markdown",
   "metadata": {},
   "source": [
    "# Main Demo"
   ]
  },
  {
   "cell_type": "markdown",
   "metadata": {},
   "source": [
    "Import the module and test the elasticities generator."
   ]
  },
  {
   "cell_type": "code",
   "execution_count": null,
   "metadata": {},
   "outputs": [],
   "source": [
    "from bi_exchange_module import *\n",
    "\n",
    "generate_crs_elasticities(5)\n"
   ]
  },
  {
   "cell_type": "markdown",
   "metadata": {},
   "source": [
    "Initialize an agent as a test."
   ]
  },
  {
   "cell_type": "code",
   "execution_count": null,
   "metadata": {},
   "outputs": [],
   "source": [
    "agent = Agent(2, 10, True)\n",
    "# agent.get_inventory()\n",
    "agent.get_pref(1)"
   ]
  },
  {
   "cell_type": "markdown",
   "metadata": {},
   "source": [
    "Get their inventory of good 1."
   ]
  },
  {
   "cell_type": "code",
   "execution_count": null,
   "metadata": {},
   "outputs": [],
   "source": [
    "agent.get_inventory(1)"
   ]
  },
  {
   "cell_type": "markdown",
   "metadata": {},
   "source": [
    "Initialize the market and execute."
   ]
  },
  {
   "cell_type": "code",
   "execution_count": 3,
   "metadata": {},
   "outputs": [
    {
     "name": "stdout",
     "output_type": "stream",
     "text": [
      "Trading day 1: 1006 total transactions, 1006 since yesterday\n"
     ]
    }
   ],
   "source": [
    "from bi_exchange_module import *\n",
    "market = Market()\n",
    "# 5 Agents, 20 Goods, and max initial endowment of 20 (and no wealth equality)\n",
    "market.generate_agents(\n",
    "    agent_count=10, \n",
    "    goods_type_count=20, \n",
    "    max_endowment_per_good=20, \n",
    "    equality=False)\n",
    "market.clear_transactions()\n",
    "market.execute_exchange(\n",
    "    trading_days=1, \n",
    "    # The higher strategic_error is, the less trades in the first trading day\n",
    "    strategic_error = 0.1, \n",
    "    # plot_types include \"edgeworth\", \"edgeworth_plus\", \"inventory_timeseries\",\n",
    "    # \"aggregate_utility\", and \"individual_utility\"\n",
    "    # Note that the \"edgeworth\" only displays the first 10 transactions, \n",
    "    # and then every hundredth transaction thereafter.\n",
    "    plot_type=None,\n",
    "    )"
   ]
  },
  {
   "cell_type": "markdown",
   "metadata": {},
   "source": [
    "Note that in the Edgeworth box, \n",
    "1. The label inside each data point indicates after which transaction the inventory snapshot is taken.\n",
    "2. A diagonal time-path indicates that for this given set of pairwise goods, some unit was exchanged for the other. A vertical or horizontal time-path indicates previous transactions outside of this good-pair."
   ]
  },
  {
   "cell_type": "markdown",
   "metadata": {},
   "source": [
    "## Multilateral Edgeworth Box"
   ]
  },
  {
   "cell_type": "markdown",
   "metadata": {},
   "source": [
    "Increase the number of agents. Also, use a network to determine trading partners."
   ]
  },
  {
   "cell_type": "code",
   "execution_count": 2,
   "metadata": {},
   "outputs": [
    {
     "name": "stdout",
     "output_type": "stream",
     "text": [
      "Trading day 1: 15663 total transactions, 15663 since yesterday\n"
     ]
    }
   ],
   "source": [
    "from bi_exchange_module import *\n",
    "market = Market()\n",
    "# Regenerate agents so as to refresh inventory\n",
    "market.generate_agents(100, 20, 20, False)\n",
    "market.generate_network(size=20)\n",
    "market.clear_transactions()\n",
    "market.execute_exchange(\n",
    "    trading_days=1,\n",
    "    strategic_error = 0.1, \n",
    "    trade_within_network=False,\n",
    "    plot_type=None,\n",
    "    )"
   ]
  },
  {
   "cell_type": "markdown",
   "metadata": {},
   "source": [
    "Run the same market for another day:"
   ]
  },
  {
   "cell_type": "code",
   "execution_count": null,
   "metadata": {},
   "outputs": [],
   "source": [
    "market.execute_exchange(\n",
    "    trading_days=1,\n",
    "    strategic_error = 0.1, \n",
    "    trade_within_network=True,\n",
    "    plot_type=\"edgeworth_plus\",\n",
    "    )"
   ]
  },
  {
   "cell_type": "markdown",
   "metadata": {},
   "source": [
    "Get the preference vector of a specific agent."
   ]
  },
  {
   "cell_type": "code",
   "execution_count": null,
   "metadata": {},
   "outputs": [],
   "source": [
    "market.agents[1].get_entire_pref()"
   ]
  },
  {
   "cell_type": "markdown",
   "metadata": {},
   "source": [
    "## Plot the cumulative sum of transactions by good, indexed by transaction"
   ]
  },
  {
   "cell_type": "code",
   "execution_count": null,
   "metadata": {},
   "outputs": [],
   "source": [
    "df = market.transactions_to_dataframe(\"good\")\n",
    "df"
   ]
  },
  {
   "cell_type": "markdown",
   "metadata": {},
   "source": [
    "## Plot the cumulative sum of transactions by agent, indexed by transaction"
   ]
  },
  {
   "cell_type": "code",
   "execution_count": null,
   "metadata": {},
   "outputs": [],
   "source": [
    "df2 = market.transactions_to_dataframe(\"agent\")\n",
    "df2"
   ]
  }
 ],
 "metadata": {
  "kernelspec": {
   "display_name": "latest_py",
   "language": "python",
   "name": "python3"
  },
  "language_info": {
   "codemirror_mode": {
    "name": "ipython",
    "version": 3
   },
   "file_extension": ".py",
   "mimetype": "text/x-python",
   "name": "python",
   "nbconvert_exporter": "python",
   "pygments_lexer": "ipython3",
   "version": "3.12.9"
  }
 },
 "nbformat": 4,
 "nbformat_minor": 2
}
