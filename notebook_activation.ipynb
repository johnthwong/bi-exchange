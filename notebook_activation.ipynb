{
 "cells": [
  {
   "cell_type": "code",
   "execution_count": 1,
   "metadata": {},
   "outputs": [
    {
     "data": {
      "application/vnd.jupyter.widget-view+json": {
       "model_id": "0bb6212233ed46faacb9dfbcae4690ef",
       "version_major": 2,
       "version_minor": 0
      },
      "text/plain": [
       "FigureWidget({\n",
       "    'data': [{'line': {'color': 'rgb(102, 197, 204)'},\n",
       "              'mode': 'lines',\n",
       "              'name': 'Agent 0',\n",
       "              'type': 'scatter',\n",
       "              'uid': '79aae7c2-2d22-4e90-9175-e5cf7ceab834',\n",
       "              'x': [1, 2, 3, ..., 915, 916, 917],\n",
       "              'y': array([ 6.69248882,  6.69558027,  6.70682211, ..., 19.9298878 , 19.9298878 ,\n",
       "                          19.9298878 ], shape=(917,))},\n",
       "             {'line': {'color': 'rgb(246, 207, 113)'},\n",
       "              'mode': 'lines',\n",
       "              'name': 'Agent 1',\n",
       "              'type': 'scatter',\n",
       "              'uid': 'c937cedc-79c3-4fa9-a7a7-8774cacfd6f5',\n",
       "              'x': [1, 2, 3, ..., 915, 916, 917],\n",
       "              'y': array([ 7.39012319,  7.39012319,  7.39012319, ..., 19.46729801, 19.52105504,\n",
       "                          19.52105504], shape=(917,))},\n",
       "             {'line': {'color': 'rgb(248, 156, 116)'},\n",
       "              'mode': 'lines',\n",
       "              'name': 'Agent 2',\n",
       "              'type': 'scatter',\n",
       "              'uid': 'ecfed939-b2cb-4958-8993-e680137101cc',\n",
       "              'x': [1, 2, 3, ..., 915, 916, 917],\n",
       "              'y': array([12.71136391, 12.71136391, 12.71136391, ..., 22.55172758, 22.55172758,\n",
       "                          22.55172758], shape=(917,))},\n",
       "             {'line': {'color': 'rgb(220, 176, 242)'},\n",
       "              'mode': 'lines',\n",
       "              'name': 'Agent 3',\n",
       "              'type': 'scatter',\n",
       "              'uid': 'bf99304b-333c-4da5-bc11-3a21585d77ef',\n",
       "              'x': [1, 2, 3, ..., 915, 916, 917],\n",
       "              'y': array([ 7.35503597,  7.35503597,  7.35503597, ..., 20.75278439, 20.79150071,\n",
       "                          20.79150071], shape=(917,))},\n",
       "             {'line': {'color': 'rgb(135, 197, 95)'},\n",
       "              'mode': 'lines',\n",
       "              'name': 'Agent 4',\n",
       "              'type': 'scatter',\n",
       "              'uid': 'f02a2a2d-a543-4349-9075-1c073bcd8575',\n",
       "              'x': [1, 2, 3, ..., 915, 916, 917],\n",
       "              'y': array([11.19178981, 11.19178981, 11.19178981, ..., 18.17505869, 18.17505869,\n",
       "                          18.17519146], shape=(917,))},\n",
       "             {'line': {'color': 'rgb(158, 185, 243)'},\n",
       "              'mode': 'lines',\n",
       "              'name': 'Agent 5',\n",
       "              'type': 'scatter',\n",
       "              'uid': '9dd2c002-c9c9-4cd7-8ec8-f3ece8c55357',\n",
       "              'x': [1, 2, 3, ..., 915, 916, 917],\n",
       "              'y': array([ 8.86209452,  8.86209452,  8.86209452, ..., 18.13794282, 18.13794282,\n",
       "                          18.13794282], shape=(917,))},\n",
       "             {'line': {'color': 'rgb(254, 136, 177)'},\n",
       "              'mode': 'lines',\n",
       "              'name': 'Agent 6',\n",
       "              'type': 'scatter',\n",
       "              'uid': 'f9f966dd-c3e2-44e2-9fa3-b6655b2a80a7',\n",
       "              'x': [1, 2, 3, ..., 915, 916, 917],\n",
       "              'y': array([ 5.25068253,  5.31769629,  5.66201434, ..., 14.37149455, 14.37149455,\n",
       "                          14.37149455], shape=(917,))},\n",
       "             {'line': {'color': 'rgb(201, 219, 116)'},\n",
       "              'mode': 'lines',\n",
       "              'name': 'Agent 7',\n",
       "              'type': 'scatter',\n",
       "              'uid': '6adafed2-8fc4-475d-965e-04a04e5a9352',\n",
       "              'x': [1, 2, 3, ..., 915, 916, 917],\n",
       "              'y': array([13.07574112, 13.07574112, 13.07574112, ..., 23.83161519, 23.83161519,\n",
       "                          23.83161519], shape=(917,))},\n",
       "             {'line': {'color': 'rgb(139, 224, 164)'},\n",
       "              'mode': 'lines',\n",
       "              'name': 'Agent 8',\n",
       "              'type': 'scatter',\n",
       "              'uid': '076dd0b3-ef29-4690-82fc-92eff7d37245',\n",
       "              'x': [1, 2, 3, ..., 915, 916, 917],\n",
       "              'y': array([ 3.05701711,  3.05701711,  3.05701711, ..., 19.10930477, 19.10930477,\n",
       "                          19.10930477], shape=(917,))},\n",
       "             {'line': {'color': 'rgb(180, 151, 231)'},\n",
       "              'mode': 'lines',\n",
       "              'name': 'Agent 9',\n",
       "              'type': 'scatter',\n",
       "              'uid': '8656260c-bc91-43c6-806f-97dea5988c4b',\n",
       "              'x': [1, 2, 3, ..., 915, 916, 917],\n",
       "              'y': array([ 7.12351007,  7.12351007,  7.12351007, ..., 18.02420458, 18.02420458,\n",
       "                          18.05392147], shape=(917,))}],\n",
       "    'layout': {'hovermode': 'closest',\n",
       "               'template': '...',\n",
       "               'title': {'text': 'Individual Utility Time Series'},\n",
       "               'xaxis': {'title': {'text': 'Transactions'}},\n",
       "               'yaxis': {'title': {'text': 'Utility'}}}\n",
       "})"
      ]
     },
     "metadata": {},
     "output_type": "display_data"
    },
    {
     "name": "stdout",
     "output_type": "stream",
     "text": [
      "Trading day 3: 917 total transactions, 40 since yesterday\n",
      "this is the 2-th agents index: [2, 0, 6, 8, 5, 7, 1, 4, 9, 3]\n"
     ]
    }
   ],
   "source": [
    "from bi_exchange_module import *\n",
    "market = Market()\n",
    "market.generate_agents(10, 20, 20, False)\n",
    "market.shuffled_goods_index\n",
    "market.clear_transactions()\n",
    "market.execute_exchange(\n",
    "    3, strategic_error = 0.5,\n",
    "    plot_type = \"individual_utility\"\n",
    "    )"
   ]
  },
  {
   "cell_type": "code",
   "execution_count": 2,
   "metadata": {},
   "outputs": [
    {
     "data": {
      "text/plain": [
       "[[6, 0, 2, 3, 7, 1, 5, 9, 4, 8],\n",
       " [6, 7, 4, 8, 0, 5, 2, 1, 9, 3],\n",
       " [2, 0, 6, 8, 5, 7, 1, 4, 9, 3]]"
      ]
     },
     "execution_count": 2,
     "metadata": {},
     "output_type": "execute_result"
    }
   ],
   "source": [
    "market.shuffled_agents_index_vintage"
   ]
  }
 ],
 "metadata": {
  "kernelspec": {
   "display_name": "latest_py",
   "language": "python",
   "name": "python3"
  },
  "language_info": {
   "codemirror_mode": {
    "name": "ipython",
    "version": 3
   },
   "file_extension": ".py",
   "mimetype": "text/x-python",
   "name": "python",
   "nbconvert_exporter": "python",
   "pygments_lexer": "ipython3",
   "version": "3.12.9"
  }
 },
 "nbformat": 4,
 "nbformat_minor": 2
}
