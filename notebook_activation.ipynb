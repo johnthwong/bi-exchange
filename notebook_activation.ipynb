{
 "cells": [
  {
   "cell_type": "code",
   "execution_count": 1,
   "metadata": {},
   "outputs": [
    {
     "data": {
      "application/vnd.jupyter.widget-view+json": {
       "model_id": "03d94358d3fa4cabbf701271c037555e",
       "version_major": 2,
       "version_minor": 0
      },
      "text/plain": [
       "FigureWidget({\n",
       "    'data': [{'line': {'color': 'rgb(102, 197, 204)'},\n",
       "              'mode': 'lines',\n",
       "              'name': 'Agent 0',\n",
       "              'type': 'scatter',\n",
       "              'uid': '050207a3-e86e-4e64-b3e2-3841ed51bc94',\n",
       "              'x': [1, 2, 3, ..., 782, 783, 784],\n",
       "              'y': array([11.53066365, 11.53066365, 11.53066365, ..., 16.45736154, 16.45736154,\n",
       "                          16.45736154], shape=(784,))},\n",
       "             {'line': {'color': 'rgb(246, 207, 113)'},\n",
       "              'mode': 'lines',\n",
       "              'name': 'Agent 1',\n",
       "              'type': 'scatter',\n",
       "              'uid': 'c4c5089c-7bed-4b55-a7dd-72d30768ba78',\n",
       "              'x': [1, 2, 3, ..., 782, 783, 784],\n",
       "              'y': array([ 9.67921655,  9.67921655,  9.67921655, ..., 15.94217096, 15.94217096,\n",
       "                          15.94217096], shape=(784,))},\n",
       "             {'line': {'color': 'rgb(248, 156, 116)'},\n",
       "              'mode': 'lines',\n",
       "              'name': 'Agent 2',\n",
       "              'type': 'scatter',\n",
       "              'uid': '5ce7efae-ede8-40d5-996f-772ca3a5b818',\n",
       "              'x': [1, 2, 3, ..., 782, 783, 784],\n",
       "              'y': array([ 6.70078707,  6.73422091,  6.74140407, ..., 16.18042769, 16.18042769,\n",
       "                          16.18042769], shape=(784,))},\n",
       "             {'line': {'color': 'rgb(220, 176, 242)'},\n",
       "              'mode': 'lines',\n",
       "              'name': 'Agent 3',\n",
       "              'type': 'scatter',\n",
       "              'uid': 'daf1c561-9dd6-415e-8c06-17403d6a4b24',\n",
       "              'x': [1, 2, 3, ..., 782, 783, 784],\n",
       "              'y': array([ 9.8423591 ,  9.8423591 ,  9.8423591 , ..., 15.51864756, 15.51864756,\n",
       "                          15.51864756], shape=(784,))},\n",
       "             {'line': {'color': 'rgb(135, 197, 95)'},\n",
       "              'mode': 'lines',\n",
       "              'name': 'Agent 4',\n",
       "              'type': 'scatter',\n",
       "              'uid': '0fbe6fcf-2c38-41f1-99e3-3971934bdd73',\n",
       "              'x': [1, 2, 3, ..., 782, 783, 784],\n",
       "              'y': array([ 6.81752028,  6.81752028,  6.81752028, ..., 19.70190057, 19.70246645,\n",
       "                          19.7100065 ], shape=(784,))},\n",
       "             {'line': {'color': 'rgb(158, 185, 243)'},\n",
       "              'mode': 'lines',\n",
       "              'name': 'Agent 5',\n",
       "              'type': 'scatter',\n",
       "              'uid': 'dbe6a809-1587-4b63-85a1-d92576911b06',\n",
       "              'x': [1, 2, 3, ..., 782, 783, 784],\n",
       "              'y': array([10.35349429, 10.49211002, 10.58381172, ..., 20.83558795, 20.83558795,\n",
       "                          20.83558795], shape=(784,))},\n",
       "             {'line': {'color': 'rgb(254, 136, 177)'},\n",
       "              'mode': 'lines',\n",
       "              'name': 'Agent 6',\n",
       "              'type': 'scatter',\n",
       "              'uid': 'cab35f1b-d922-454a-b601-92f97a98c29b',\n",
       "              'x': [1, 2, 3, ..., 782, 783, 784],\n",
       "              'y': array([ 7.8478277 ,  7.8478277 ,  7.8478277 , ..., 13.13012604, 13.13476495,\n",
       "                          13.13544518], shape=(784,))},\n",
       "             {'line': {'color': 'rgb(201, 219, 116)'},\n",
       "              'mode': 'lines',\n",
       "              'name': 'Agent 7',\n",
       "              'type': 'scatter',\n",
       "              'uid': 'cc64c3c4-060f-4c7f-bd7f-16abe643e36a',\n",
       "              'x': [1, 2, 3, ..., 782, 783, 784],\n",
       "              'y': array([10.33717867, 10.33717867, 10.33717867, ..., 19.17429646, 19.17429646,\n",
       "                          19.17429646], shape=(784,))},\n",
       "             {'line': {'color': 'rgb(139, 224, 164)'},\n",
       "              'mode': 'lines',\n",
       "              'name': 'Agent 8',\n",
       "              'type': 'scatter',\n",
       "              'uid': 'f0aa4892-a545-42f3-8dce-562726a9ede1',\n",
       "              'x': [1, 2, 3, ..., 782, 783, 784],\n",
       "              'y': array([10.02057416, 10.02057416, 10.02057416, ..., 16.27087682, 16.27087682,\n",
       "                          16.27087682], shape=(784,))},\n",
       "             {'line': {'color': 'rgb(180, 151, 231)'},\n",
       "              'mode': 'lines',\n",
       "              'name': 'Agent 9',\n",
       "              'type': 'scatter',\n",
       "              'uid': '4abc4bae-6601-43e9-87d1-d3361ec25287',\n",
       "              'x': [1, 2, 3, ..., 782, 783, 784],\n",
       "              'y': array([12.38428832, 12.38428832, 12.38428832, ..., 20.82471129, 20.82471129,\n",
       "                          20.82471129], shape=(784,))}],\n",
       "    'layout': {'hovermode': 'closest',\n",
       "               'template': '...',\n",
       "               'title': {'text': 'Individual Utility Time Series'},\n",
       "               'xaxis': {'title': {'text': 'Transactions'}},\n",
       "               'yaxis': {'title': {'text': 'Utility'}}}\n",
       "})"
      ]
     },
     "metadata": {},
     "output_type": "display_data"
    },
    {
     "name": "stdout",
     "output_type": "stream",
     "text": [
      "Trading day 3: 784 total transactions, 62 since yesterday\n",
      "this is the 2-th agents index: [9, 8, 3, 2, 5, 0, 6, 1, 4, 7]\n"
     ]
    }
   ],
   "source": [
    "from bi_exchange_module import *\n",
    "market = Market()\n",
    "market.generate_agents(10, 20, 20, False)\n",
    "market.shuffled_goods_index\n",
    "market.generate_network(3)\n",
    "market.clear_transactions()\n",
    "market.execute_exchange(\n",
    "    3, strategic_error = 0.5,\n",
    "    plot_type = \"individual_utility\",\n",
    "    trade_within_network=True\n",
    "    )"
   ]
  },
  {
   "cell_type": "code",
   "execution_count": 2,
   "metadata": {},
   "outputs": [
    {
     "data": {
      "text/plain": [
       "[[5, 3, 8, 2, 1, 4, 7, 9, 0, 6],\n",
       " [3, 2, 6, 5, 9, 7, 8, 0, 1, 4],\n",
       " [9, 8, 3, 2, 5, 0, 6, 1, 4, 7]]"
      ]
     },
     "execution_count": 2,
     "metadata": {},
     "output_type": "execute_result"
    }
   ],
   "source": [
    "market.shuffled_agents_index_vintage"
   ]
  }
 ],
 "metadata": {
  "kernelspec": {
   "display_name": "latest_py",
   "language": "python",
   "name": "python3"
  },
  "language_info": {
   "codemirror_mode": {
    "name": "ipython",
    "version": 3
   },
   "file_extension": ".py",
   "mimetype": "text/x-python",
   "name": "python",
   "nbconvert_exporter": "python",
   "pygments_lexer": "ipython3",
   "version": "3.12.9"
  }
 },
 "nbformat": 4,
 "nbformat_minor": 2
}
