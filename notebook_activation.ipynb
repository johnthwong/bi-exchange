{
 "cells": [
  {
   "cell_type": "code",
   "execution_count": 3,
   "metadata": {},
   "outputs": [
    {
     "data": {
      "application/vnd.jupyter.widget-view+json": {
       "model_id": "5e3e70d277e747959861455331f08727",
       "version_major": 2,
       "version_minor": 0
      },
      "text/plain": [
       "FigureWidget({\n",
       "    'data': [{'line': {'color': 'rgb(102, 197, 204)'},\n",
       "              'mode': 'lines',\n",
       "              'name': 'Agent 0',\n",
       "              'type': 'scatter',\n",
       "              'uid': '9f85033f-40f7-4a08-8be9-8a1829984f78',\n",
       "              'x': [1, 2, 3, ..., 811, 812, 813],\n",
       "              'y': array([ 4.97305497,  4.99301274,  4.99776132, ..., 12.80970527, 12.80970527,\n",
       "                          12.80970527], shape=(813,))},\n",
       "             {'line': {'color': 'rgb(246, 207, 113)'},\n",
       "              'mode': 'lines',\n",
       "              'name': 'Agent 1',\n",
       "              'type': 'scatter',\n",
       "              'uid': '2c53fa63-1f04-461f-93c6-718bb9d59c36',\n",
       "              'x': [1, 2, 3, ..., 811, 812, 813],\n",
       "              'y': array([ 9.07884006,  9.08833244,  9.09445559, ..., 14.15535162, 14.15535162,\n",
       "                          14.15535162], shape=(813,))},\n",
       "             {'line': {'color': 'rgb(248, 156, 116)'},\n",
       "              'mode': 'lines',\n",
       "              'name': 'Agent 2',\n",
       "              'type': 'scatter',\n",
       "              'uid': '236dcdf3-fe48-45e3-82e9-189f6a4651bf',\n",
       "              'x': [1, 2, 3, ..., 811, 812, 813],\n",
       "              'y': array([ 9.2161763 ,  9.2161763 ,  9.2161763 , ..., 13.18617111, 13.18617111,\n",
       "                          13.18617111], shape=(813,))},\n",
       "             {'line': {'color': 'rgb(220, 176, 242)'},\n",
       "              'mode': 'lines',\n",
       "              'name': 'Agent 3',\n",
       "              'type': 'scatter',\n",
       "              'uid': '0c44da98-fc0d-498e-a36d-2675c696e4fd',\n",
       "              'x': [1, 2, 3, ..., 811, 812, 813],\n",
       "              'y': array([1.90826227, 1.90826227, 1.90826227, ..., 9.86892056, 9.86892056,\n",
       "                          9.86892056], shape=(813,))},\n",
       "             {'line': {'color': 'rgb(135, 197, 95)'},\n",
       "              'mode': 'lines',\n",
       "              'name': 'Agent 4',\n",
       "              'type': 'scatter',\n",
       "              'uid': 'cf2283f2-ffe9-4ccf-82a3-027c9fb908ab',\n",
       "              'x': [1, 2, 3, ..., 811, 812, 813],\n",
       "              'y': array([ 5.92025771,  5.92025771,  5.92025771, ..., 14.84140204, 14.84140204,\n",
       "                          14.84140204], shape=(813,))},\n",
       "             {'line': {'color': 'rgb(158, 185, 243)'},\n",
       "              'mode': 'lines',\n",
       "              'name': 'Agent 5',\n",
       "              'type': 'scatter',\n",
       "              'uid': '8bd777db-ddfa-4204-9b3c-ac95756bd940',\n",
       "              'x': [1, 2, 3, ..., 811, 812, 813],\n",
       "              'y': array([ 4.33630038,  4.33630038,  4.33630038, ..., 16.11359427, 16.11359427,\n",
       "                          16.11359427], shape=(813,))},\n",
       "             {'line': {'color': 'rgb(254, 136, 177)'},\n",
       "              'mode': 'lines',\n",
       "              'name': 'Agent 6',\n",
       "              'type': 'scatter',\n",
       "              'uid': '733e0402-23d5-4872-8965-f0c5b23a46b3',\n",
       "              'x': [1, 2, 3, ..., 811, 812, 813],\n",
       "              'y': array([ 7.48866831,  7.48866831,  7.48866831, ..., 15.41203072, 15.41203072,\n",
       "                          15.41203072], shape=(813,))},\n",
       "             {'line': {'color': 'rgb(201, 219, 116)'},\n",
       "              'mode': 'lines',\n",
       "              'name': 'Agent 7',\n",
       "              'type': 'scatter',\n",
       "              'uid': 'd71c3768-bd84-4953-8415-b18e727308d8',\n",
       "              'x': [1, 2, 3, ..., 811, 812, 813],\n",
       "              'y': array([12.45853355, 12.45853355, 12.45853355, ..., 18.90043092, 18.90043092,\n",
       "                          18.90043092], shape=(813,))},\n",
       "             {'line': {'color': 'rgb(139, 224, 164)'},\n",
       "              'mode': 'lines',\n",
       "              'name': 'Agent 8',\n",
       "              'type': 'scatter',\n",
       "              'uid': 'cfe0d52a-c713-4b73-9dcf-215e271d6fda',\n",
       "              'x': [1, 2, 3, ..., 811, 812, 813],\n",
       "              'y': array([ 3.74961575,  3.74961575,  3.74961575, ..., 10.54244665, 10.54302129,\n",
       "                          10.90614226], shape=(813,))},\n",
       "             {'line': {'color': 'rgb(180, 151, 231)'},\n",
       "              'mode': 'lines',\n",
       "              'name': 'Agent 9',\n",
       "              'type': 'scatter',\n",
       "              'uid': '6fe564cd-09cf-4947-8f82-a4740f67e3be',\n",
       "              'x': [1, 2, 3, ..., 811, 812, 813],\n",
       "              'y': array([ 8.04470544,  8.04470544,  8.04470544, ..., 11.4802601 , 11.4802601 ,\n",
       "                          11.4802601 ], shape=(813,))},\n",
       "             {'line': {'color': 'rgb(179, 179, 179)'},\n",
       "              'mode': 'lines',\n",
       "              'name': 'Agent 10',\n",
       "              'type': 'scatter',\n",
       "              'uid': 'd1ce71b9-b1e9-4c5c-b895-d6493c89f5d8',\n",
       "              'x': [1, 2, 3, ..., 811, 812, 813],\n",
       "              'y': array([ 9.66257505,  9.66257505,  9.66257505, ..., 20.11857761, 20.11857761,\n",
       "                          20.11857761], shape=(813,))},\n",
       "             {'line': {'color': 'rgb(102, 197, 204)'},\n",
       "              'mode': 'lines',\n",
       "              'name': 'Agent 11',\n",
       "              'type': 'scatter',\n",
       "              'uid': 'a5cbf87e-786f-45da-bf71-0fb99e000100',\n",
       "              'x': [1, 2, 3, ..., 811, 812, 813],\n",
       "              'y': array([ 7.60361998,  7.60361998,  7.60361998, ..., 11.65078071, 11.6569106 ,\n",
       "                          11.9111342 ], shape=(813,))},\n",
       "             {'line': {'color': 'rgb(246, 207, 113)'},\n",
       "              'mode': 'lines',\n",
       "              'name': 'Agent 12',\n",
       "              'type': 'scatter',\n",
       "              'uid': '3bbb7021-a823-449a-aae6-76355a26aebb',\n",
       "              'x': [1, 2, 3, ..., 811, 812, 813],\n",
       "              'y': array([ 9.6210221 ,  9.6210221 ,  9.6210221 , ..., 15.51456982, 15.51456982,\n",
       "                          15.51456982], shape=(813,))},\n",
       "             {'line': {'color': 'rgb(248, 156, 116)'},\n",
       "              'mode': 'lines',\n",
       "              'name': 'Agent 13',\n",
       "              'type': 'scatter',\n",
       "              'uid': '073ea356-858f-4171-becc-31bb8d06e6db',\n",
       "              'x': [1, 2, 3, ..., 811, 812, 813],\n",
       "              'y': array([ 8.82734269,  8.82734269,  8.82734269, ..., 18.48190965, 18.48190965,\n",
       "                          18.48190965], shape=(813,))}],\n",
       "    'layout': {'hovermode': 'closest',\n",
       "               'template': '...',\n",
       "               'title': {'text': 'Individual Utility Time Series'},\n",
       "               'xaxis': {'title': {'text': 'Transactions'}},\n",
       "               'yaxis': {'title': {'text': 'Utility'}}}\n",
       "})"
      ]
     },
     "metadata": {},
     "output_type": "display_data"
    },
    {
     "name": "stdout",
     "output_type": "stream",
     "text": [
      "Trading day 1: 813 total transactions, 813 since yesterday\n"
     ]
    }
   ],
   "source": [
    "from bi_exchange_module import *\n",
    "market = Market()\n",
    "market.generate_agents(14, 20, 20, False)\n",
    "market.generate_network(3)\n",
    "market.clear_transactions()\n",
    "market.execute_exchange(\n",
    "    trading_days=1, \n",
    "    strategic_error = 0.5,\n",
    "    plot_type = \"individual_utility\",\n",
    "    trade_within_network=True\n",
    "    )"
   ]
  },
  {
   "cell_type": "code",
   "execution_count": 4,
   "metadata": {},
   "outputs": [
    {
     "data": {
      "text/plain": [
       "[[0, 1, 6, 4, 13, 3, 9, 12, 8, 7, 10, 5, 11, 2]]"
      ]
     },
     "execution_count": 4,
     "metadata": {},
     "output_type": "execute_result"
    }
   ],
   "source": [
    "market.shuffled_agents_index_vintage"
   ]
  },
  {
   "cell_type": "code",
   "execution_count": null,
   "metadata": {},
   "outputs": [],
   "source": []
  }
 ],
 "metadata": {
  "kernelspec": {
   "display_name": "latest_py",
   "language": "python",
   "name": "python3"
  },
  "language_info": {
   "codemirror_mode": {
    "name": "ipython",
    "version": 3
   },
   "file_extension": ".py",
   "mimetype": "text/x-python",
   "name": "python",
   "nbconvert_exporter": "python",
   "pygments_lexer": "ipython3",
   "version": "3.12.9"
  }
 },
 "nbformat": 4,
 "nbformat_minor": 2
}
