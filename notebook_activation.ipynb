{
 "cells": [
  {
   "cell_type": "code",
   "execution_count": 1,
   "metadata": {},
   "outputs": [
    {
     "data": {
      "application/vnd.jupyter.widget-view+json": {
       "model_id": "043243bacce549aca9c036d639e0e1fc",
       "version_major": 2,
       "version_minor": 0
      },
      "text/plain": [
       "FigureWidget({\n",
       "    'data': [{'line': {'color': 'rgb(102, 197, 204)'},\n",
       "              'mode': 'lines',\n",
       "              'name': 'Agent 0',\n",
       "              'type': 'scatter',\n",
       "              'uid': '453f3488-d185-4907-ae77-4e1d80ef4faf',\n",
       "              'x': [1, 2, 3, ..., 1072, 1073, 1074],\n",
       "              'y': array([10.42288661, 10.42288661, 10.42288661, ..., 15.85063571, 15.85063571,\n",
       "                          15.85063571], shape=(1074,))},\n",
       "             {'line': {'color': 'rgb(246, 207, 113)'},\n",
       "              'mode': 'lines',\n",
       "              'name': 'Agent 1',\n",
       "              'type': 'scatter',\n",
       "              'uid': '2053b723-71dd-4f8a-8877-4131ef10325c',\n",
       "              'x': [1, 2, 3, ..., 1072, 1073, 1074],\n",
       "              'y': array([ 5.48573647,  5.48573647,  5.48573647, ..., 16.07736614, 16.07736614,\n",
       "                          16.07736614], shape=(1074,))},\n",
       "             {'line': {'color': 'rgb(248, 156, 116)'},\n",
       "              'mode': 'lines',\n",
       "              'name': 'Agent 2',\n",
       "              'type': 'scatter',\n",
       "              'uid': '73d2ea5c-2030-43ea-836b-7744876e5d34',\n",
       "              'x': [1, 2, 3, ..., 1072, 1073, 1074],\n",
       "              'y': array([ 8.19226658,  8.19226658,  8.19226658, ..., 17.80200161, 17.80200161,\n",
       "                          17.80200161], shape=(1074,))},\n",
       "             {'line': {'color': 'rgb(220, 176, 242)'},\n",
       "              'mode': 'lines',\n",
       "              'name': 'Agent 3',\n",
       "              'type': 'scatter',\n",
       "              'uid': 'dd35e517-b104-4773-9c26-d97451a823e3',\n",
       "              'x': [1, 2, 3, ..., 1072, 1073, 1074],\n",
       "              'y': array([11.07462408, 11.07462408, 11.07462408, ..., 20.21967235, 20.21967235,\n",
       "                          20.21967235], shape=(1074,))},\n",
       "             {'line': {'color': 'rgb(135, 197, 95)'},\n",
       "              'mode': 'lines',\n",
       "              'name': 'Agent 4',\n",
       "              'type': 'scatter',\n",
       "              'uid': '116e54b4-c4b6-44e4-9716-3dba2c67983a',\n",
       "              'x': [1, 2, 3, ..., 1072, 1073, 1074],\n",
       "              'y': array([ 7.71202041,  7.71202041,  7.71202041, ..., 24.95763787, 24.95763787,\n",
       "                          24.95763787], shape=(1074,))},\n",
       "             {'line': {'color': 'rgb(158, 185, 243)'},\n",
       "              'mode': 'lines',\n",
       "              'name': 'Agent 5',\n",
       "              'type': 'scatter',\n",
       "              'uid': '9c308a09-cb4b-48f3-9416-6e8cef0d2bf7',\n",
       "              'x': [1, 2, 3, ..., 1072, 1073, 1074],\n",
       "              'y': array([ 7.55700498,  7.55700498,  7.55700498, ..., 11.51286553, 11.51286553,\n",
       "                          11.51286553], shape=(1074,))},\n",
       "             {'line': {'color': 'rgb(254, 136, 177)'},\n",
       "              'mode': 'lines',\n",
       "              'name': 'Agent 6',\n",
       "              'type': 'scatter',\n",
       "              'uid': 'a1fc3bac-b99e-4f11-83ff-4a209fafcc1a',\n",
       "              'x': [1, 2, 3, ..., 1072, 1073, 1074],\n",
       "              'y': array([ 7.81228774,  7.81228774,  7.81228774, ..., 23.55604826, 23.55604826,\n",
       "                          23.55604826], shape=(1074,))},\n",
       "             {'line': {'color': 'rgb(201, 219, 116)'},\n",
       "              'mode': 'lines',\n",
       "              'name': 'Agent 7',\n",
       "              'type': 'scatter',\n",
       "              'uid': '65e1d888-cbda-4b39-987e-4dca838c3158',\n",
       "              'x': [1, 2, 3, ..., 1072, 1073, 1074],\n",
       "              'y': array([12.62653224, 12.65145885, 12.65388305, ..., 21.66363616, 21.66363616,\n",
       "                          21.66363616], shape=(1074,))},\n",
       "             {'line': {'color': 'rgb(139, 224, 164)'},\n",
       "              'mode': 'lines',\n",
       "              'name': 'Agent 8',\n",
       "              'type': 'scatter',\n",
       "              'uid': 'aec50a16-6f2f-4cd7-aa20-3f6c6de03b72',\n",
       "              'x': [1, 2, 3, ..., 1072, 1073, 1074],\n",
       "              'y': array([ 5.91847464,  5.91847464,  5.91847464, ..., 12.38657821, 12.61126955,\n",
       "                          12.79973166], shape=(1074,))},\n",
       "             {'line': {'color': 'rgb(180, 151, 231)'},\n",
       "              'mode': 'lines',\n",
       "              'name': 'Agent 9',\n",
       "              'type': 'scatter',\n",
       "              'uid': 'b1e95eb2-c3a1-4426-a87c-f57bcf379d0a',\n",
       "              'x': [1, 2, 3, ..., 1072, 1073, 1074],\n",
       "              'y': array([ 6.42832422,  6.42832422,  6.42832422, ..., 13.59995492, 13.59995492,\n",
       "                          13.59995492], shape=(1074,))},\n",
       "             {'line': {'color': 'rgb(179, 179, 179)'},\n",
       "              'mode': 'lines',\n",
       "              'name': 'Agent 10',\n",
       "              'type': 'scatter',\n",
       "              'uid': '0c2d864b-a994-44f0-b0c3-90fa8b745e63',\n",
       "              'x': [1, 2, 3, ..., 1072, 1073, 1074],\n",
       "              'y': array([ 6.67082913,  6.67082913,  6.67082913, ..., 17.82984547, 17.84638846,\n",
       "                          17.84997121], shape=(1074,))},\n",
       "             {'line': {'color': 'rgb(102, 197, 204)'},\n",
       "              'mode': 'lines',\n",
       "              'name': 'Agent 11',\n",
       "              'type': 'scatter',\n",
       "              'uid': 'df1bd8f5-1bd4-401d-a5de-6663186aa5b2',\n",
       "              'x': [1, 2, 3, ..., 1072, 1073, 1074],\n",
       "              'y': array([12.41207109, 12.41251945, 12.42737157, ..., 20.40519084, 20.40519084,\n",
       "                          20.40519084], shape=(1074,))},\n",
       "             {'line': {'color': 'rgb(246, 207, 113)'},\n",
       "              'mode': 'lines',\n",
       "              'name': 'Agent 12',\n",
       "              'type': 'scatter',\n",
       "              'uid': '6c0bc23c-e419-4ee8-a907-7d29f96b2d62',\n",
       "              'x': [1, 2, 3, ..., 1072, 1073, 1074],\n",
       "              'y': array([3.79301204, 3.79301204, 3.79301204, ..., 7.63163998, 7.63163998,\n",
       "                          7.63163998], shape=(1074,))},\n",
       "             {'line': {'color': 'rgb(248, 156, 116)'},\n",
       "              'mode': 'lines',\n",
       "              'name': 'Agent 13',\n",
       "              'type': 'scatter',\n",
       "              'uid': '4dd81aac-bbbe-4ece-a5da-bec6fadbbaf5',\n",
       "              'x': [1, 2, 3, ..., 1072, 1073, 1074],\n",
       "              'y': array([ 5.92497467,  5.92497467,  5.92497467, ..., 13.45207544, 13.45207544,\n",
       "                          13.45207544], shape=(1074,))}],\n",
       "    'layout': {'hovermode': 'closest',\n",
       "               'template': '...',\n",
       "               'title': {'text': 'Individual Utility Time Series'},\n",
       "               'xaxis': {'title': {'text': 'Transactions'}},\n",
       "               'yaxis': {'title': {'text': 'Utility'}}}\n",
       "})"
      ]
     },
     "metadata": {},
     "output_type": "display_data"
    },
    {
     "name": "stdout",
     "output_type": "stream",
     "text": [
      "Trading day 2: 1074 total transactions, 218 since yesterday\n"
     ]
    }
   ],
   "source": [
    "from bi_exchange_module import *\n",
    "market = Market()\n",
    "market.generate_agents(14, 20, 20, False)\n",
    "market.shuffled_goods_index\n",
    "market.generate_network(3)\n",
    "market.clear_transactions()\n",
    "market.execute_exchange(\n",
    "    2, strategic_error = 0.5,\n",
    "    plot_type = \"individual_utility\",\n",
    "    trade_within_network=True\n",
    "    )"
   ]
  },
  {
   "cell_type": "code",
   "execution_count": 2,
   "metadata": {},
   "outputs": [
    {
     "data": {
      "text/plain": [
       "[[11, 5, 2, 8, 7, 12, 4, 10, 6, 0, 1, 3, 13, 9],\n",
       " [9, 6, 0, 12, 2, 7, 13, 3, 11, 1, 4, 10, 8, 5]]"
      ]
     },
     "execution_count": 2,
     "metadata": {},
     "output_type": "execute_result"
    }
   ],
   "source": [
    "market.shuffled_agents_index_vintage"
   ]
  }
 ],
 "metadata": {
  "kernelspec": {
   "display_name": "latest_py",
   "language": "python",
   "name": "python3"
  },
  "language_info": {
   "codemirror_mode": {
    "name": "ipython",
    "version": 3
   },
   "file_extension": ".py",
   "mimetype": "text/x-python",
   "name": "python",
   "nbconvert_exporter": "python",
   "pygments_lexer": "ipython3",
   "version": "3.12.9"
  }
 },
 "nbformat": 4,
 "nbformat_minor": 2
}
